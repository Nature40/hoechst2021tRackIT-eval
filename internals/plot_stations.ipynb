{
 "cells": [
  {
   "cell_type": "code",
   "execution_count": 1,
   "metadata": {},
   "outputs": [],
   "source": [
    "from ipyleaflet import *\n",
    "from radiotracking import MatchedSignal\n",
    "import csv\n",
    "import datetime\n",
    "import math"
   ]
  },
  {
   "cell_type": "code",
   "execution_count": 2,
   "metadata": {},
   "outputs": [],
   "source": [
    "testposition = (50.83855691, 8.67239018)\n",
    "testdata = [\n",
    "    ['mof-rts-00015', datetime.datetime(2021, 3, 25, 10, 54, 53, 607370, tzinfo=datetime.timezone.utc), 150202734.375, datetime.timedelta(microseconds=16213), -78.92520253354826, None, None, -82.41087803806145],\n",
    "    ['mof-rts-00015', datetime.datetime(2021, 3, 25, 10, 54, 53, 655462, tzinfo=datetime.timezone.utc), 150202734.375, datetime.timedelta(microseconds=12800), None, None, -91.75949757624312, None],\n",
    "    ['mof-rts-00004', datetime.datetime(2021, 3, 25, 10, 54, 53, 601612, tzinfo=datetime.timezone.utc), 150202734.375, datetime.timedelta(microseconds=15360), None, -71.47351511258891, -60.41336625021481, -79.32246560567711],\n",
    "    ['mof-rts-00004', datetime.datetime(2021, 3, 25, 10, 54, 53, 603536, tzinfo=datetime.timezone.utc), 150202734.375, datetime.timedelta(microseconds=11093), -83.71886643800684, None, None, None],\n",
    "    ['mof-rts-00004', datetime.datetime(2021, 3, 25, 10, 54, 54, 269773, tzinfo=datetime.timezone.utc), 150202734.375, datetime.timedelta(microseconds=15360), None, -72.0369788813743, -60.16637245204366, None],\n",
    "    ['mof-rts-00011', datetime.datetime(2021, 3, 25, 10, 54, 53, 586240, tzinfo=datetime.timezone.utc), 150202734.375, datetime.timedelta(microseconds=8533), None, None, -89.03161448684934, None],\n",
    "    ['mof-rts-00015', datetime.datetime(2021, 3, 25, 10, 54, 54, 276384, tzinfo=datetime.timezone.utc), 150202734.375, datetime.timedelta(microseconds=14507), -78.53805631819071, -81.5877975156211, None, -82.34372460877367],\n",
    "    ['mof-rts-00015', datetime.datetime(2021, 3, 25, 10, 54, 54, 944544, tzinfo=datetime.timezone.utc), 150202734.375, datetime.timedelta(microseconds=15360), -78.74989391913225, -81.84365912534494, None, -82.95117099491519],\n",
    "    ['mof-rts-00004', datetime.datetime(2021, 3, 25, 10, 54, 54, 937934, tzinfo=datetime.timezone.utc), 150202734.375, datetime.timedelta(microseconds=16213), None, -72.04754094048869, -60.43751324539982, None],\n",
    "    ['mof-rts-00015', datetime.datetime(2021, 3, 25, 10, 54, 55, 613558, tzinfo=datetime.timezone.utc), 150202734.375, datetime.timedelta(microseconds=15360), -78.62036846427986, -81.2527141353527, None, -82.5700890569791],\n",
    "    ['mof-rts-00004', datetime.datetime(2021, 3, 25, 10, 54, 55, 607801, tzinfo=datetime.timezone.utc), 150202734.375, datetime.timedelta(microseconds=15360), None, -71.42597898148492, -60.44361847555529, None],\n",
    "    ['mof-rts-00004', datetime.datetime(2021, 3, 25, 10, 54, 55, 651264, tzinfo=datetime.timezone.utc), 150202734.375, datetime.timedelta(microseconds=11947), None, None, None, -79.94484206376443],\n",
    "    ['mof-rts-00015', datetime.datetime(2021, 3, 25, 10, 54, 56, 282572, tzinfo=datetime.timezone.utc), 150202734.375, datetime.timedelta(microseconds=15360), -78.84009334238851, None, None, -82.0930158169277],\n",
    "    ['mof-rts-00015', datetime.datetime(2021, 3, 25, 10, 54, 56, 302976, tzinfo=datetime.timezone.utc), 150202734.375, datetime.timedelta(microseconds=10240), None, -82.52504632627442, None, None],\n",
    "    ['mof-rts-00004', datetime.datetime(2021, 3, 25, 10, 54, 56, 276815, tzinfo=datetime.timezone.utc), 150202734.375, datetime.timedelta(microseconds=14507), None, -71.76723493441051, -60.14889582098701, None],\n",
    "    ['mof-rts-00004', datetime.datetime(2021, 3, 25, 10, 54, 56, 317717, tzinfo=datetime.timezone.utc), 150202734.375, datetime.timedelta(microseconds=8533), None, None, None, -79.972021431648],\n",
    "    ['mof-rts-00004', datetime.datetime(2021, 3, 25, 10, 54, 56, 944975, tzinfo=datetime.timezone.utc), 150202734.375, datetime.timedelta(microseconds=15360), None, -71.99785480616525, -60.15065796910158, None],\n",
    "    ['mof-rts-00015', datetime.datetime(2021, 3, 25, 10, 54, 56, 951586, tzinfo=datetime.timezone.utc), 150202734.375, datetime.timedelta(microseconds=15360), -79.182103460482, None, None, -82.067045409094],\n",
    "    ['mof-rts-00004', datetime.datetime(2021, 3, 25, 10, 54, 56, 990145, tzinfo=datetime.timezone.utc), 150202734.375, datetime.timedelta(microseconds=10240), None, None, None, -79.61958035843323],\n",
    "    ['mof-rts-00015', datetime.datetime(2021, 3, 25, 10, 54, 57, 620600, tzinfo=datetime.timezone.utc), 150202734.375, datetime.timedelta(microseconds=14507), -78.41591160712115, None, None, -82.75247893807993],\n",
    "    ['mof-rts-00004', datetime.datetime(2021, 3, 25, 10, 54, 57, 614206, tzinfo=datetime.timezone.utc), 150202734.375, datetime.timedelta(microseconds=9387), -84.05855339822341, None, None, -79.35137644834478],\n",
    "    ['mof-rts-00004', datetime.datetime(2021, 3, 25, 10, 54, 57, 613989, tzinfo=datetime.timezone.utc), 150202734.375, datetime.timedelta(microseconds=15360), None, -71.88141135655866, -60.17498866868566, None],\n",
    "    ['mof-rts-00015', datetime.datetime(2021, 3, 25, 10, 54, 58, 289613, tzinfo=datetime.timezone.utc), 150202734.375, datetime.timedelta(microseconds=15360), -78.65343730053507, -82.83128001576068, None, -82.66816623160771],\n",
    "    ['mof-rts-00004', datetime.datetime(2021, 3, 25, 10, 54, 58, 283003, tzinfo=datetime.timezone.utc), 150202734.375, datetime.timedelta(microseconds=15360), None, -71.85536823281988, -60.419368451683084, None],\n",
    "    ['mof-rts-00015', datetime.datetime(2021, 3, 25, 10, 54, 58, 957774, tzinfo=datetime.timezone.utc), 150202734.375, datetime.timedelta(microseconds=15360), -78.86001324692133, -83.11232958466854, None, -82.22724409218154],\n",
    "    ['mof-rts-00004', datetime.datetime(2021, 3, 25, 10, 54, 58, 323906, tzinfo=datetime.timezone.utc), 150202734.375, datetime.timedelta(microseconds=11093), None, None, None, -78.8541172699045],\n",
    "    ['mof-rts-00004', datetime.datetime(2021, 3, 25, 10, 54, 58, 952017, tzinfo=datetime.timezone.utc), 150202734.375, datetime.timedelta(microseconds=15360), None, -71.67434432884522, -60.46082159611121, None],\n",
    "    ['mof-rts-00004', datetime.datetime(2021, 3, 25, 10, 54, 58, 998040, tzinfo=datetime.timezone.utc), 150202734.375, datetime.timedelta(microseconds=9387), None, None, None, -79.2844978738963],\n",
    "    ['mof-rts-00015', datetime.datetime(2021, 3, 25, 10, 54, 59, 6720, tzinfo=datetime.timezone.utc), 150202734.375, datetime.timedelta(microseconds=11947), None, None, -92.20362453060736, None],\n",
    "    ['mof-rts-00015', datetime.datetime(2021, 3, 25, 10, 54, 59, 625935, tzinfo=datetime.timezone.utc), 150202734.375, datetime.timedelta(microseconds=16213), -78.61238164305118, None, None, -82.18668183324623],\n",
    "    ['mof-rts-00004', datetime.datetime(2021, 3, 25, 10, 54, 59, 621030, tzinfo=datetime.timezone.utc), 150202734.375, datetime.timedelta(microseconds=15360), None, -71.67824039010515, -60.14720681205587, -79.11193917644766],\n",
    "    ['mof-rts-00011', datetime.datetime(2021, 3, 25, 10, 54, 56, 258882, tzinfo=datetime.timezone.utc), 150202734.375, datetime.timedelta(microseconds=9387), None, None, -87.48753280342994, None],\n",
    "    ['mof-rts-00015', datetime.datetime(2021, 3, 25, 10, 55, 0, 295802, tzinfo=datetime.timezone.utc), 150202734.375, datetime.timedelta(microseconds=14507), -78.55491645640993, None, None, -82.10123297365303],\n",
    "    ['mof-rts-00004', datetime.datetime(2021, 3, 25, 10, 55, 0, 289191, tzinfo=datetime.timezone.utc), 150202734.375, datetime.timedelta(microseconds=15360), None, -71.97269773924137, -60.08296680695299, None],\n",
    "    ['mof-rts-00015', datetime.datetime(2021, 3, 25, 10, 55, 0, 964816, tzinfo=datetime.timezone.utc), 150202734.375, datetime.timedelta(microseconds=14507), -78.45113225674463, None, None, -82.80284094921407],\n",
    "    ['mof-rts-00004', datetime.datetime(2021, 3, 25, 10, 55, 0, 958205, tzinfo=datetime.timezone.utc), 150202734.375, datetime.timedelta(microseconds=15360), None, -71.85945589792001, -60.140436981284495, None],\n",
    "    ['mof-rts-00004', datetime.datetime(2021, 3, 25, 10, 55, 1, 2521, tzinfo=datetime.timezone.utc), 150202734.375, datetime.timedelta(microseconds=11947), None, None, None, -78.44060462689201],\n",
    "    ['mof-rts-00015', datetime.datetime(2021, 3, 25, 10, 55, 1, 633829, tzinfo=datetime.timezone.utc), 150202734.375, datetime.timedelta(microseconds=14507), -78.69078792759582, None, None, -82.35624797506918],\n",
    "    ['mof-rts-00004', datetime.datetime(2021, 3, 25, 10, 55, 1, 627219, tzinfo=datetime.timezone.utc), 150202734.375, datetime.timedelta(microseconds=15360), None, -72.01238753087998, -60.12336284564818, -78.99094309310213],\n",
    "    ['mof-rts-00015', datetime.datetime(2021, 3, 25, 10, 55, 2, 302843, tzinfo=datetime.timezone.utc), 150202734.375, datetime.timedelta(microseconds=16213), -78.40414162289908, None, -93.43654066394429, -82.30791076416403],\n",
    "    ['mof-rts-00015', datetime.datetime(2021, 3, 25, 10, 55, 2, 327514, tzinfo=datetime.timezone.utc), 150202734.375, datetime.timedelta(microseconds=8533), None, -82.3692384490044, None, None],\n",
    "    ['mof-rts-00004', datetime.datetime(2021, 3, 25, 10, 55, 2, 296232, tzinfo=datetime.timezone.utc), 150202734.375, datetime.timedelta(microseconds=15360), None, -71.76228889229213, -60.4044464277386, None],\n",
    "    ['mof-rts-00004', datetime.datetime(2021, 3, 25, 10, 55, 2, 965246, tzinfo=datetime.timezone.utc), 150202734.375, datetime.timedelta(microseconds=15360), None, -71.73894495381073, -60.487891735286674, None],\n",
    "    ['mof-rts-00015', datetime.datetime(2021, 3, 25, 10, 55, 2, 971857, tzinfo=datetime.timezone.utc), 150202734.375, datetime.timedelta(microseconds=16213), -78.45464565046035, -82.24629358908665, None, -82.24761337621075],\n",
    "    ['mof-rts-00015', datetime.datetime(2021, 3, 25, 10, 55, 3, 25069, tzinfo=datetime.timezone.utc), 150202734.375, datetime.timedelta(microseconds=9387), None, None, -93.01767163495887, None],\n",
    "    ['mof-rts-00015', datetime.datetime(2021, 3, 25, 10, 55, 3, 640018, tzinfo=datetime.timezone.utc), 150202734.375, datetime.timedelta(microseconds=15360), -78.61204270645929, None, None, -82.50327979464475],\n",
    "    ['mof-rts-00015', datetime.datetime(2021, 3, 25, 10, 55, 3, 657862, tzinfo=datetime.timezone.utc), 150202734.375, datetime.timedelta(microseconds=10240), None, -81.2118537395299, -92.56574259407664, None],\n",
    "]"
   ]
  },
  {
   "cell_type": "code",
   "execution_count": 3,
   "metadata": {},
   "outputs": [
    {
     "data": {
      "text/plain": [
       "{'mof_rts_00011': (50.844200022, 8.677942226),\n",
       " 'mof_rts_00003': (50.84061893, 8.67639808),\n",
       " 'mof_rts_00009': (50.842093443, 8.671811457),\n",
       " 'mof_rts_00015': (50.837987724, 8.671643444),\n",
       " 'mof_rts_00004': (50.839859874, 8.671609941),\n",
       " 'mof_rts_00016': (50.834997049, 8.681546781),\n",
       " 'mof_rts_00014': (50.8450603, 8.686134911),\n",
       " 'mof_rts_00008': (50.838887665, 8.685003542),\n",
       " 'mof_rts_00006': (50.835861844, 8.67057769),\n",
       " 'mof_rts_00013': (50.832267647, 8.672100596),\n",
       " 'mof_rts_00001': (50.839805701, 8.68190641),\n",
       " 'mof_rts_00007': (50.839779355, 8.67795098),\n",
       " 'mof_rts_00002': (50.830705045, 8.67499876),\n",
       " 'mof_rts_00010': (50.835873283, 8.678262016),\n",
       " 'mof_rts_00012': (50.832749707, 8.683711399)}"
      ]
     },
     "execution_count": 3,
     "metadata": {},
     "output_type": "execute_result"
    }
   ],
   "source": [
    "stations = {}\n",
    "\n",
    "with open(\"antennas_2020.csv\") as ant_file:\n",
    "    ant_csv = csv.DictReader(ant_file)\n",
    "    for l in ant_csv:\n",
    "        stations[l[\"Name\"]] = (float(l[\"Latitude\"]), float(l[\"Longitude\"]))\n",
    "        \n",
    "stations"
   ]
  },
  {
   "cell_type": "code",
   "execution_count": 4,
   "metadata": {},
   "outputs": [],
   "source": [
    "def calculate_initial_compass_bearing(pointA, pointB):\n",
    "    \"\"\"\n",
    "    Calculates the bearing between two points.\n",
    "    The formulae used is the following:\n",
    "        θ = atan2(sin(Δlong).cos(lat2),\n",
    "                  cos(lat1).sin(lat2) − sin(lat1).cos(lat2).cos(Δlong))\n",
    "    :Parameters:\n",
    "      - `pointA: The tuple representing the latitude/longitude for the\n",
    "        first point. Latitude and longitude must be in decimal degrees\n",
    "      - `pointB: The tuple representing the latitude/longitude for the\n",
    "        second point. Latitude and longitude must be in decimal degrees\n",
    "    :Returns:\n",
    "      The bearing in degrees\n",
    "    :Returns Type:\n",
    "      float\n",
    "    \"\"\"\n",
    "    if (type(pointA) != tuple) or (type(pointB) != tuple):\n",
    "        raise TypeError(\"Only tuples are supported as arguments\")\n",
    "\n",
    "    lat1 = math.radians(pointA[0])\n",
    "    lat2 = math.radians(pointB[0])\n",
    "\n",
    "    diffLong = math.radians(pointB[1] - pointA[1])\n",
    "\n",
    "    x = math.sin(diffLong) * math.cos(lat2)\n",
    "    y = math.cos(lat1) * math.sin(lat2) - (math.sin(lat1)\n",
    "            * math.cos(lat2) * math.cos(diffLong))\n",
    "\n",
    "    initial_bearing = math.atan2(x, y)\n",
    "\n",
    "    # Now we have the initial bearing but math.atan2 return values\n",
    "    # from -180° to + 180° which is not what we want for a compass bearing\n",
    "    # The solution is to normalize the initial bearing as shown below\n",
    "    initial_bearing = math.degrees(initial_bearing)\n",
    "    compass_bearing = (initial_bearing + 360) % 360\n",
    "\n",
    "    return initial_bearing"
   ]
  },
  {
   "cell_type": "code",
   "execution_count": 5,
   "metadata": {},
   "outputs": [
    {
     "data": {
      "application/vnd.jupyter.widget-view+json": {
       "model_id": "22a07bf32a4d4c60bae988cecc801936",
       "version_major": 2,
       "version_minor": 0
      },
      "text/plain": [
       "Map(center=[50.83855691, 8.67239018], controls=(ZoomControl(options=['position', 'zoom_in_text', 'zoom_in_titl…"
      ]
     },
     "metadata": {},
     "output_type": "display_data"
    }
   ],
   "source": [
    "m = Map(center=testposition, zoom=16)\n",
    "\n",
    "for name, s in stations.items():\n",
    "    marker = Marker(location=s, draggable=False, title=name)\n",
    "    m.add_layer(marker)\n",
    "    \n",
    "marker = Marker(location=testposition, draggable=False, title=\"testsender\", icon=AwesomeIcon(\n",
    "    name='home',\n",
    "    marker_color='green',\n",
    "    icon_color='black'\n",
    "))\n",
    "m.add_layer(marker)\n",
    "    \n",
    "m"
   ]
  },
  {
   "cell_type": "code",
   "execution_count": 6,
   "metadata": {},
   "outputs": [],
   "source": [
    "def bearing_line(corrd, angle, length = .01):\n",
    "    end_lat = corrd[0] + length * math.cos(math.radians(angle))\n",
    "    end_lon = corrd[1] + length * math.sin(math.radians(angle))\n",
    "\n",
    "    line = Polyline(\n",
    "        locations=[\n",
    "            corrd,\n",
    "            [end_lat, end_lon]\n",
    "        ],\n",
    "        color=\"black\",\n",
    "        fill=False\n",
    "    )\n",
    "    \n",
    "    return line\n",
    "\n",
    "#angle = calculate_initial_compass_bearing(stations[\"mof_rts_00004\"], testposition)\n",
    "#m.add_layer(bearing_line(stations[\"mof_rts_00004\"], angle))"
   ]
  },
  {
   "cell_type": "code",
   "execution_count": 7,
   "metadata": {},
   "outputs": [],
   "source": [
    "m.add_layer(bearing_line(stations[\"mof_rts_00004\"], 176.3503967277481))\n",
    "m.add_layer(bearing_line(stations[\"mof_rts_00015\"], 12.526146249138339))"
   ]
  },
  {
   "cell_type": "code",
   "execution_count": 8,
   "metadata": {},
   "outputs": [
    {
     "data": {
      "text/plain": [
       "{'mof-rts-00015': [MatchedSignal([0, 1, 2, 3], 2021-03-25 10:54:53.607370+00:00, 150202734.375, 0:00:00.016213, -78.92520253354826, None, None, -82.41087803806145),\n",
       "  MatchedSignal([0, 1, 2, 3], 2021-03-25 10:54:53.655462+00:00, 150202734.375, 0:00:00.012800, None, None, -91.75949757624312, None),\n",
       "  MatchedSignal([0, 1, 2, 3], 2021-03-25 10:54:54.276384+00:00, 150202734.375, 0:00:00.014507, -78.53805631819071, -81.5877975156211, None, -82.34372460877367),\n",
       "  MatchedSignal([0, 1, 2, 3], 2021-03-25 10:54:54.944544+00:00, 150202734.375, 0:00:00.015360, -78.74989391913225, -81.84365912534494, None, -82.95117099491519),\n",
       "  MatchedSignal([0, 1, 2, 3], 2021-03-25 10:54:55.613558+00:00, 150202734.375, 0:00:00.015360, -78.62036846427986, -81.2527141353527, None, -82.5700890569791),\n",
       "  MatchedSignal([0, 1, 2, 3], 2021-03-25 10:54:56.282572+00:00, 150202734.375, 0:00:00.015360, -78.84009334238851, None, None, -82.0930158169277),\n",
       "  MatchedSignal([0, 1, 2, 3], 2021-03-25 10:54:56.302976+00:00, 150202734.375, 0:00:00.010240, None, -82.52504632627442, None, None),\n",
       "  MatchedSignal([0, 1, 2, 3], 2021-03-25 10:54:56.951586+00:00, 150202734.375, 0:00:00.015360, -79.182103460482, None, None, -82.067045409094),\n",
       "  MatchedSignal([0, 1, 2, 3], 2021-03-25 10:54:57.620600+00:00, 150202734.375, 0:00:00.014507, -78.41591160712115, None, None, -82.75247893807993),\n",
       "  MatchedSignal([0, 1, 2, 3], 2021-03-25 10:54:58.289613+00:00, 150202734.375, 0:00:00.015360, -78.65343730053507, -82.83128001576068, None, -82.66816623160771),\n",
       "  MatchedSignal([0, 1, 2, 3], 2021-03-25 10:54:58.957774+00:00, 150202734.375, 0:00:00.015360, -78.86001324692133, -83.11232958466854, None, -82.22724409218154),\n",
       "  MatchedSignal([0, 1, 2, 3], 2021-03-25 10:54:59.006720+00:00, 150202734.375, 0:00:00.011947, None, None, -92.20362453060736, None),\n",
       "  MatchedSignal([0, 1, 2, 3], 2021-03-25 10:54:59.625935+00:00, 150202734.375, 0:00:00.016213, -78.61238164305118, None, None, -82.18668183324623),\n",
       "  MatchedSignal([0, 1, 2, 3], 2021-03-25 10:55:00.295802+00:00, 150202734.375, 0:00:00.014507, -78.55491645640993, None, None, -82.10123297365303),\n",
       "  MatchedSignal([0, 1, 2, 3], 2021-03-25 10:55:00.964816+00:00, 150202734.375, 0:00:00.014507, -78.45113225674463, None, None, -82.80284094921407),\n",
       "  MatchedSignal([0, 1, 2, 3], 2021-03-25 10:55:01.633829+00:00, 150202734.375, 0:00:00.014507, -78.69078792759582, None, None, -82.35624797506918),\n",
       "  MatchedSignal([0, 1, 2, 3], 2021-03-25 10:55:02.302843+00:00, 150202734.375, 0:00:00.016213, -78.40414162289908, None, -93.43654066394429, -82.30791076416403),\n",
       "  MatchedSignal([0, 1, 2, 3], 2021-03-25 10:55:02.327514+00:00, 150202734.375, 0:00:00.008533, None, -82.3692384490044, None, None),\n",
       "  MatchedSignal([0, 1, 2, 3], 2021-03-25 10:55:02.971857+00:00, 150202734.375, 0:00:00.016213, -78.45464565046035, -82.24629358908665, None, -82.24761337621075),\n",
       "  MatchedSignal([0, 1, 2, 3], 2021-03-25 10:55:03.025069+00:00, 150202734.375, 0:00:00.009387, None, None, -93.01767163495887, None),\n",
       "  MatchedSignal([0, 1, 2, 3], 2021-03-25 10:55:03.640018+00:00, 150202734.375, 0:00:00.015360, -78.61204270645929, None, None, -82.50327979464475),\n",
       "  MatchedSignal([0, 1, 2, 3], 2021-03-25 10:55:03.657862+00:00, 150202734.375, 0:00:00.010240, None, -81.2118537395299, -92.56574259407664, None)],\n",
       " 'mof-rts-00004': [MatchedSignal([0, 1, 2, 3], 2021-03-25 10:54:53.601612+00:00, 150202734.375, 0:00:00.015360, None, -71.47351511258891, -60.41336625021481, -79.32246560567711),\n",
       "  MatchedSignal([0, 1, 2, 3], 2021-03-25 10:54:53.603536+00:00, 150202734.375, 0:00:00.011093, -83.71886643800684, None, None, None),\n",
       "  MatchedSignal([0, 1, 2, 3], 2021-03-25 10:54:54.269773+00:00, 150202734.375, 0:00:00.015360, None, -72.0369788813743, -60.16637245204366, None),\n",
       "  MatchedSignal([0, 1, 2, 3], 2021-03-25 10:54:54.937934+00:00, 150202734.375, 0:00:00.016213, None, -72.04754094048869, -60.43751324539982, None),\n",
       "  MatchedSignal([0, 1, 2, 3], 2021-03-25 10:54:55.607801+00:00, 150202734.375, 0:00:00.015360, None, -71.42597898148492, -60.44361847555529, None),\n",
       "  MatchedSignal([0, 1, 2, 3], 2021-03-25 10:54:55.651264+00:00, 150202734.375, 0:00:00.011947, None, None, None, -79.94484206376443),\n",
       "  MatchedSignal([0, 1, 2, 3], 2021-03-25 10:54:56.276815+00:00, 150202734.375, 0:00:00.014507, None, -71.76723493441051, -60.14889582098701, None),\n",
       "  MatchedSignal([0, 1, 2, 3], 2021-03-25 10:54:56.317717+00:00, 150202734.375, 0:00:00.008533, None, None, None, -79.972021431648),\n",
       "  MatchedSignal([0, 1, 2, 3], 2021-03-25 10:54:56.944975+00:00, 150202734.375, 0:00:00.015360, None, -71.99785480616525, -60.15065796910158, None),\n",
       "  MatchedSignal([0, 1, 2, 3], 2021-03-25 10:54:56.990145+00:00, 150202734.375, 0:00:00.010240, None, None, None, -79.61958035843323),\n",
       "  MatchedSignal([0, 1, 2, 3], 2021-03-25 10:54:57.614206+00:00, 150202734.375, 0:00:00.009387, -84.05855339822341, None, None, -79.35137644834478),\n",
       "  MatchedSignal([0, 1, 2, 3], 2021-03-25 10:54:57.613989+00:00, 150202734.375, 0:00:00.015360, None, -71.88141135655866, -60.17498866868566, None),\n",
       "  MatchedSignal([0, 1, 2, 3], 2021-03-25 10:54:58.283003+00:00, 150202734.375, 0:00:00.015360, None, -71.85536823281988, -60.419368451683084, None),\n",
       "  MatchedSignal([0, 1, 2, 3], 2021-03-25 10:54:58.323906+00:00, 150202734.375, 0:00:00.011093, None, None, None, -78.8541172699045),\n",
       "  MatchedSignal([0, 1, 2, 3], 2021-03-25 10:54:58.952017+00:00, 150202734.375, 0:00:00.015360, None, -71.67434432884522, -60.46082159611121, None),\n",
       "  MatchedSignal([0, 1, 2, 3], 2021-03-25 10:54:58.998040+00:00, 150202734.375, 0:00:00.009387, None, None, None, -79.2844978738963),\n",
       "  MatchedSignal([0, 1, 2, 3], 2021-03-25 10:54:59.621030+00:00, 150202734.375, 0:00:00.015360, None, -71.67824039010515, -60.14720681205587, -79.11193917644766),\n",
       "  MatchedSignal([0, 1, 2, 3], 2021-03-25 10:55:00.289191+00:00, 150202734.375, 0:00:00.015360, None, -71.97269773924137, -60.08296680695299, None),\n",
       "  MatchedSignal([0, 1, 2, 3], 2021-03-25 10:55:00.958205+00:00, 150202734.375, 0:00:00.015360, None, -71.85945589792001, -60.140436981284495, None),\n",
       "  MatchedSignal([0, 1, 2, 3], 2021-03-25 10:55:01.002521+00:00, 150202734.375, 0:00:00.011947, None, None, None, -78.44060462689201),\n",
       "  MatchedSignal([0, 1, 2, 3], 2021-03-25 10:55:01.627219+00:00, 150202734.375, 0:00:00.015360, None, -72.01238753087998, -60.12336284564818, -78.99094309310213),\n",
       "  MatchedSignal([0, 1, 2, 3], 2021-03-25 10:55:02.296232+00:00, 150202734.375, 0:00:00.015360, None, -71.76228889229213, -60.4044464277386, None),\n",
       "  MatchedSignal([0, 1, 2, 3], 2021-03-25 10:55:02.965246+00:00, 150202734.375, 0:00:00.015360, None, -71.73894495381073, -60.487891735286674, None)],\n",
       " 'mof-rts-00011': [MatchedSignal([0, 1, 2, 3], 2021-03-25 10:54:53.586240+00:00, 150202734.375, 0:00:00.008533, None, None, -89.03161448684934, None),\n",
       "  MatchedSignal([0, 1, 2, 3], 2021-03-25 10:54:56.258882+00:00, 150202734.375, 0:00:00.009387, None, None, -87.48753280342994, None)]}"
      ]
     },
     "execution_count": 8,
     "metadata": {},
     "output_type": "execute_result"
    }
   ],
   "source": [
    "msigs = {}\n",
    "for t in testdata:\n",
    "    station, *sig = t\n",
    "    if station in msigs:\n",
    "        msigs[station].append(MatchedSignal([0,1,2,3], *sig))\n",
    "    else:\n",
    "        msigs[station] = [MatchedSignal([0,1,2,3], *sig)]\n",
    "        \n",
    "msigs"
   ]
  }
 ],
 "metadata": {
  "kernelspec": {
   "display_name": "Python 3",
   "language": "python",
   "name": "python3"
  },
  "language_info": {
   "codemirror_mode": {
    "name": "ipython",
    "version": 3
   },
   "file_extension": ".py",
   "mimetype": "text/x-python",
   "name": "python",
   "nbconvert_exporter": "python",
   "pygments_lexer": "ipython3",
   "version": "3.8.2"
  }
 },
 "nbformat": 4,
 "nbformat_minor": 4
}
