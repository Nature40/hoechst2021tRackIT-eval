{
 "cells": [
  {
   "cell_type": "code",
   "execution_count": 1,
   "metadata": {},
   "outputs": [],
   "source": [
    "import cbor2 as cbor\n",
    "from radiotracking.consume import cborify\n",
    "import datetime"
   ]
  },
  {
   "cell_type": "code",
   "execution_count": 6,
   "metadata": {},
   "outputs": [],
   "source": [
    "def print_lens(arr):\n",
    "    lens = []\n",
    "    \n",
    "    for elem in arr:\n",
    "        cbor_elem = cbor.dumps(\n",
    "                        elem,\n",
    "                        timezone=datetime.timezone.utc,\n",
    "                        datetime_as_timestamp=True,\n",
    "                        default=cborify,\n",
    "                    )\n",
    "        lens.append((type(elem), len(cbor_elem)))\n",
    "        \n",
    "    lens_sum = sum([l for _, l in lens])\n",
    "    print(f\"total({lens_sum}):\", \", \".join([f\"{t.__name__}({l})\" for t, l in lens]))\n"
   ]
  },
  {
   "cell_type": "markdown",
   "metadata": {},
   "source": [
    "# Signal"
   ]
  },
  {
   "cell_type": "code",
   "execution_count": 10,
   "metadata": {},
   "outputs": [
    {
     "name": "stdout",
     "output_type": "stream",
     "text": [
      "total(78): str(2), datetime(10), float(9), timedelta(12), float(9), float(9), float(9), float(9), float(9)\n"
     ]
    }
   ],
   "source": [
    "signal = ['2', datetime.datetime(2021, 3, 20, 19, 35, 45, 724277, tzinfo=datetime.timezone.utc), 150172265.625, datetime.timedelta(microseconds=17920), -56.33835810761703, -57.19027611615276, 7.271003976968635, -71.05008931309455, 13.859813196941783]\n",
    "print_lens(signal)"
   ]
  },
  {
   "cell_type": "markdown",
   "metadata": {},
   "source": [
    "# Matched Signal"
   ]
  },
  {
   "cell_type": "code",
   "execution_count": 11,
   "metadata": {},
   "outputs": [
    {
     "name": "stdout",
     "output_type": "stream",
     "text": [
      "total(67): datetime(10), float(9), timedelta(12), float(9), float(9), float(9), float(9)\n"
     ]
    }
   ],
   "source": [
    "matched = [datetime.datetime(2021, 3, 20, 19, 35, 42, 864707, tzinfo=datetime.timezone.utc), 150172265.625, datetime.timedelta(microseconds=19627), -49.29247703433725, -45.76351574693472, -57.20046261081642, -35.35068876317763]\n",
    "print_lens(matched)"
   ]
  },
  {
   "cell_type": "markdown",
   "metadata": {},
   "source": [
    "# Minimal Signal"
   ]
  },
  {
   "cell_type": "code",
   "execution_count": 8,
   "metadata": {},
   "outputs": [
    {
     "name": "stdout",
     "output_type": "stream",
     "text": [
      "total(42): str(2), datetime(10), float(9), timedelta(12), float(9)\n"
     ]
    }
   ],
   "source": [
    "min_signal = ['2', datetime.datetime(2021, 3, 20, 19, 35, 45, 724277, tzinfo=datetime.timezone.utc), 150172265.625, datetime.timedelta(microseconds=17920), -56.33835810761703]\n",
    "print_lens(min_signal)"
   ]
  },
  {
   "cell_type": "markdown",
   "metadata": {},
   "source": [
    "# Comparison"
   ]
  },
  {
   "cell_type": "code",
   "execution_count": 12,
   "metadata": {},
   "outputs": [
    {
     "name": "stdout",
     "output_type": "stream",
     "text": [
      "Matched: 67 vs. 4 x Signal: 168\n"
     ]
    }
   ],
   "source": [
    "print(f\"Matched: {67} vs. 4 x Signal: {42*4}\")"
   ]
  }
 ],
 "metadata": {
  "kernelspec": {
   "display_name": "Python 3",
   "language": "python",
   "name": "python3"
  },
  "language_info": {
   "codemirror_mode": {
    "name": "ipython",
    "version": 3
   },
   "file_extension": ".py",
   "mimetype": "text/x-python",
   "name": "python",
   "nbconvert_exporter": "python",
   "pygments_lexer": "ipython3",
   "version": "3.8.2"
  }
 },
 "nbformat": 4,
 "nbformat_minor": 4
}
